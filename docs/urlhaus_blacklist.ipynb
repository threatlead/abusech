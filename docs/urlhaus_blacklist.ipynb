{
 "cells": [
  {
   "cell_type": "markdown",
   "metadata": {
    "collapsed": true,
    "pycharm": {
     "is_executing": false
    }
   },
   "source": [
    "# AbuseCH Data Scraper"
   ]
  },
  {
   "cell_type": "markdown",
   "metadata": {
    "pycharm": {
     "is_executing": false,
     "name": "#%%\n"
    },
    "scrolled": true
   },
   "source": [
    "## UrlHaus Blacklist\n",
    "\n",
    "> URLhaus is a project from abuse.ch with the goal of sharing malicious URLs that are being used for malware distribution.\n",
    "\n",
    "Reference: https://urlhaus.abuse.ch/"
   ]
  },
  {
   "cell_type": "code",
   "execution_count": 1,
   "metadata": {},
   "outputs": [],
   "source": [
    "from pprint import pprint\n",
    "from abusech.urlhaus import UrlHaus\n",
    "urlhaus = UrlHaus()"
   ]
  },
  {
   "cell_type": "markdown",
   "metadata": {},
   "source": [
    "### URLHaus Blocklist - Full Data\n",
    "\n",
    "> The URLhaus database dump is a simple CSV feed that contains all malware URLs that are currently known to URLhaus.\n",
    "\n",
    "Reference: https://urlhaus.abuse.ch/api/#retrieve"
   ]
  },
  {
   "cell_type": "code",
   "execution_count": 2,
   "metadata": {
    "pycharm": {
     "is_executing": false,
     "name": "#%%\n"
    },
    "scrolled": false
   },
   "outputs": [
    {
     "name": "stdout",
     "output_type": "stream",
     "text": [
      "[UrlHaus(id=257851, date_added=datetime.datetime(2019, 11, 25, 5, 53, 5), url='https://cdn.discordapp.com/attachments/644255276371017731/644257339766997001/discordprogram.exe', url_status='offline', threat='malware_download', tags='None', urlhaus_link='https://urlhaus.abuse.ch/url/257851/', reporter='JayTHL'),\n",
      " UrlHaus(id=257850, date_added=datetime.datetime(2019, 11, 25, 5, 53, 4), url='http://cdn.discordapp.com/attachments/576715262728863745/610135174239354893/b4bd25322c09eef0.exe', url_status='offline', threat='malware_download', tags='None', urlhaus_link='https://urlhaus.abuse.ch/url/257850/', reporter='JayTHL')]\n"
     ]
    }
   ],
   "source": [
    "db_dump = urlhaus.get_data_dump()\n",
    "pprint(db_dump[0:2])"
   ]
  },
  {
   "cell_type": "markdown",
   "metadata": {},
   "source": [
    "### URLHaus Blocklist - Recent Data Only\n",
    "\n",
    "> URLhaus database dump (CSV) containing recent additions (URLs) only (past 30 days):\n",
    "\n",
    "Reference: https://urlhaus.abuse.ch/api/#retrieve"
   ]
  },
  {
   "cell_type": "code",
   "execution_count": 3,
   "metadata": {
    "scrolled": true
   },
   "outputs": [
    {
     "name": "stdout",
     "output_type": "stream",
     "text": [
      "[UrlHaus(id=257851, date_added=datetime.datetime(2019, 11, 25, 5, 53, 5), url='https://cdn.discordapp.com/attachments/644255276371017731/644257339766997001/discordprogram.exe', url_status='offline', threat='malware_download', tags='None', urlhaus_link='https://urlhaus.abuse.ch/url/257851/', reporter='JayTHL'),\n",
      " UrlHaus(id=257850, date_added=datetime.datetime(2019, 11, 25, 5, 53, 4), url='http://cdn.discordapp.com/attachments/576715262728863745/610135174239354893/b4bd25322c09eef0.exe', url_status='offline', threat='malware_download', tags='None', urlhaus_link='https://urlhaus.abuse.ch/url/257850/', reporter='JayTHL')]\n"
     ]
    }
   ],
   "source": [
    "recent_dump = urlhaus.get_recent_urls()\n",
    "pprint(recent_dump[0:2])"
   ]
  },
  {
   "cell_type": "markdown",
   "metadata": {},
   "source": [
    "### URLHaus Blocklist - \"Online\" Data Only\n",
    "\n",
    "> URLhaus database dump (CSV) containing only online (active) malware URLs.\n",
    "\n",
    "Reference: https://urlhaus.abuse.ch/api/#retrieve"
   ]
  },
  {
   "cell_type": "code",
   "execution_count": 4,
   "metadata": {},
   "outputs": [
    {
     "name": "stdout",
     "output_type": "stream",
     "text": [
      "[UrlHaus(id=257796, date_added=datetime.datetime(2019, 11, 24, 18, 21, 15), url='http://192.210.180.163/razor/r4z0r.mips', url_status='online', threat='malware_download', tags='elf', urlhaus_link='https://urlhaus.abuse.ch/url/257796/', reporter='zbetcheckin'),\n",
      " UrlHaus(id=257753, date_added=datetime.datetime(2019, 11, 24, 8, 26, 16), url='http://uloab.com/putty.exe', url_status='online', threat='malware_download', tags='exe', urlhaus_link='https://urlhaus.abuse.ch/url/257753/', reporter='abuse_ch')]\n"
     ]
    }
   ],
   "source": [
    "online_dump = urlhaus.get_online_urls()\n",
    "pprint(online_dump[0:2])"
   ]
  },
  {
   "cell_type": "markdown",
   "metadata": {},
   "source": [
    "### URLHaus Blocklist - Payloads\n",
    "\n",
    "> URLhaus regularely checks the content served by malicious URLs that are known to URLhaus. This CSV contains all payloads collected by URLhaus, identified by a hash (MD5 / SHA256 hash). Please consider that not all payloads are malicious. As a matter of fact, a URL can e.g. serve any content once it has been cleaned up.\n",
    "\n",
    "Reference: https://urlhaus.abuse.ch/api/#clamav"
   ]
  },
  {
   "cell_type": "code",
   "execution_count": 5,
   "metadata": {},
   "outputs": [
    {
     "name": "stdout",
     "output_type": "stream",
     "text": [
      "[Payload(timestamp=datetime.datetime(2019, 11, 25, 6, 9, 58), url='http://druzim.freewww.biz/DEDKE.exe', type='exe', md5='df072a08eff7f92a600369ae3889b856', sha256='ec8875337f89bdfea1bc5768b8c9bc68547710f59f016846d8a33b0ac60bd35f', signature=None),\n",
      " Payload(timestamp=datetime.datetime(2019, 11, 25, 6, 8, 56), url='http://www.chalesmontanha.com/newsletter/En/Client/Customer-Invoice-EY-0944105/', type='doc', md5='3aa2c722f03f45e6176e245662737109', sha256='055ee1bf3f0aa40ce77b66a4e65f5a247a09747b5fca2bee708e65a506afee7b', signature=None),\n",
      " Payload(timestamp=datetime.datetime(2019, 11, 25, 6, 8, 18), url='http://graphee.cafe24.com/dh/downfile/DooMHelper.exe', type='exe', md5='2c188069eaf6c9a2d2972eedf3e65020', sha256='0edff846240b6c4a7c6aeb77010713e547290c0df6d66af0bc3e71ec74495b67', signature=None),\n",
      " Payload(timestamp=datetime.datetime(2019, 11, 25, 6, 8, 8), url='http://d1.paopaoche.net/x1/djfs.exe', type='exe', md5='450f1abd18d2e8a8972aee9be0efdc0c', sha256='3719181f075a739652486b2f4c27451f343f172f958604aab10bb21715ac2191', signature=None),\n",
      " Payload(timestamp=datetime.datetime(2019, 11, 25, 6, 7, 58), url='http://d1.paopaoche.net/x1/RadiantDefense.exe', type='exe', md5='15dcc1c9d4d5c1f0821c868c584c8b43', sha256='7edb216c24b4c473eee899e5969e5b9577461b985c0fbe5e4486ac40a88efe22', signature=None)]\n"
     ]
    }
   ],
   "source": [
    "payloads = urlhaus.get_payloads()\n",
    "pprint(payloads[0:5])"
   ]
  }
 ],
 "metadata": {
  "kernelspec": {
   "display_name": "Python 3",
   "language": "python",
   "name": "python3"
  },
  "language_info": {
   "codemirror_mode": {
    "name": "ipython",
    "version": 3
   },
   "file_extension": ".py",
   "mimetype": "text/x-python",
   "name": "python",
   "nbconvert_exporter": "python",
   "pygments_lexer": "ipython3",
   "version": "3.7.5rc1"
  },
  "pycharm": {
   "stem_cell": {
    "cell_type": "raw",
    "metadata": {
     "collapsed": false
    },
    "source": []
   }
  }
 },
 "nbformat": 4,
 "nbformat_minor": 1
}
