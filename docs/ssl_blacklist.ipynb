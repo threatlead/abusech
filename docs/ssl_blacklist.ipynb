{
 "cells": [
  {
   "cell_type": "markdown",
   "metadata": {
    "collapsed": true,
    "pycharm": {
     "is_executing": false
    }
   },
   "source": [
    "# AbuseCH Data Scraper"
   ]
  },
  {
   "cell_type": "markdown",
   "metadata": {
    "pycharm": {
     "is_executing": false,
     "name": "#%%\n"
    },
    "scrolled": true
   },
   "source": [
    "## SSLBL\n",
    "\n",
    "> The SSL Blacklist (SSLBL) is a project of abuse.ch with the goal of detecting malicious SSL connections, by identifying and blacklisting SSL certificates used by botnet C&C servers. In addition, SSLBL identifies JA3 fingerprints that helps you to detect & block malware botnet C&C communication on the TCP layer.\n",
    "\n",
    "Reference: https://sslbl.abuse.ch/"
   ]
  },
  {
   "cell_type": "code",
   "execution_count": 1,
   "metadata": {},
   "outputs": [],
   "source": [
    "from pprint import pprint\n",
    "from abusech.sslbl import SslBl\n",
    "sslbl = SslBl()"
   ]
  },
  {
   "cell_type": "markdown",
   "metadata": {},
   "source": [
    "### IPAddress\n",
    "\n",
    "> An SSL certificate can be associated with one or more servers (IP address:port combination). SSLBL collects IP addresses that are running with an SSL certificate blacklisted on SSLBL. These are usually botnet Command&Control servers (C&C). SSLBL hence publishes a blacklist containing these IPs which can be used to detect botnet C2 traffic from infected machines towards the internet, leaving your network. The CSV format is useful if you want to process the blacklisted IP addresses further, e.g. loading them into your SIEM.\n",
    "\n",
    "Reference: https://sslbl.abuse.ch/blacklist/#botnet-c2-ips-csv"
   ]
  },
  {
   "cell_type": "code",
   "execution_count": 2,
   "metadata": {
    "pycharm": {
     "is_executing": false,
     "name": "#%%\n"
    },
    "scrolled": true
   },
   "outputs": [
    {
     "name": "stdout",
     "output_type": "stream",
     "text": [
      "[IPAddress(datetime=datetime.datetime(2019, 11, 23, 5, 8, 49), ipaddress='185.147.15.21', port=443),\n",
      " IPAddress(datetime=datetime.datetime(2019, 11, 22, 23, 22, 36), ipaddress='185.130.104.152', port=443)]\n"
     ]
    }
   ],
   "source": [
    "data = sslbl.get_ip_blacklist()\n",
    "pprint(data[0:2])"
   ]
  },
  {
   "cell_type": "markdown",
   "metadata": {},
   "source": [
    "### IpAddress - Aggressive\n",
    "\n",
    "> If you want to fetch a comprehensive list of all IP addresses that SSLBL has ever seen, please use the CSV provided below.\n",
    "\n",
    "Reference: https://sslbl.abuse.ch/blacklist/#botnet-c2-ips-csv"
   ]
  },
  {
   "cell_type": "code",
   "execution_count": 3,
   "metadata": {},
   "outputs": [
    {
     "name": "stdout",
     "output_type": "stream",
     "text": [
      "[IPAddress(datetime=datetime.datetime(2019, 11, 23, 5, 8, 49), ipaddress='185.147.15.21', port=443),\n",
      " IPAddress(datetime=datetime.datetime(2019, 11, 22, 23, 22, 36), ipaddress='185.130.104.152', port=443)]\n"
     ]
    }
   ],
   "source": [
    "data = sslbl.get_ip_blacklist(aggressive=True)\n",
    "pprint(data[0:2])"
   ]
  },
  {
   "cell_type": "markdown",
   "metadata": {},
   "source": [
    "### SSLs\n",
    "\n",
    "> The SSL Certificate Blacklist (CSV) is a CSV that contains SHA1 Fingerprint of all SSL certificates blacklisted on SSLBL. This format is useful if you want to process the blacklisted SSL certificate further, e.g. loading them into your SIEM.\n",
    "\n",
    "Reference: https://sslbl.abuse.ch/blacklist/#ssl-certificates-csv"
   ]
  },
  {
   "cell_type": "code",
   "execution_count": 4,
   "metadata": {
    "pycharm": {
     "is_executing": false,
     "name": "#%%\n"
    },
    "scrolled": true
   },
   "outputs": [
    {
     "name": "stdout",
     "output_type": "stream",
     "text": [
      "[SSL(datetime=datetime.datetime(2019, 11, 23, 10, 17, 58), sha1='93451cec2fb6853fbd6fb5053bae747162e0feaf', reason='Ostap C&C'),\n",
      " SSL(datetime=datetime.datetime(2019, 11, 22, 14, 1, 45), sha1='6953081218a0bd0229b1b0bf6397378ead0660cf', reason='TA505 C&C')]\n"
     ]
    }
   ],
   "source": [
    "data = sslbl.get_ssl_blacklist()\n",
    "pprint(data[0:2])"
   ]
  },
  {
   "cell_type": "markdown",
   "metadata": {},
   "source": [
    "### SSL Details\n",
    "\n",
    "> An SSL certificate is identified by a unique SHA1 hash (aka SSL certificate fingerprint). The following table shows further information as well as a list of malware samples including the corresponding botnet C&C associated with the SSL certificate fingerprint 7cf902ff50b3869ccaa4715b25bbea3cb18a18b5.\n",
    "\n",
    "Reference: https://sslbl.abuse.ch/ssl-certificates/sha1/7cf902ff50b3869ccaa4715b25bbea3cb18a18b5/"
   ]
  },
  {
   "cell_type": "code",
   "execution_count": 5,
   "metadata": {},
   "outputs": [
    {
     "name": "stdout",
     "output_type": "stream",
     "text": [
      "{'details': {'cn': 'c=xx, l=default city, o=default company ltd',\n",
      "             'dn': 'c=xx, l=default city, o=default company ltd',\n",
      "             'first_seen': datetime.datetime(2019, 11, 21, 14, 39, 29),\n",
      "             'ipaddress_count': 1,\n",
      "             'last_seen': None,\n",
      "             'listing_date': datetime.datetime(2019, 11, 22, 6, 46, 43),\n",
      "             'reason': 'findpos c&c',\n",
      "             'sample_count': 1,\n",
      "             'ssl_sha1': '7cf902ff50b3869ccaa4715b25bbea3cb18a18b5',\n",
      "             'tls_version': 'tls 1.2'},\n",
      " 'hashes': [{'family': 'findpos',\n",
      "             'ipaddress': '81.25.71.88',\n",
      "             'md5': 'ebf67410ebe1d5dcabf7ef2ac6db120e',\n",
      "             'port': '443',\n",
      "             'timestamp': datetime.datetime(2019, 11, 21, 14, 39, 29),\n",
      "             'virustotal': {'link': 'https://www.virustotal.com/file/5b915e4c0a9e49b27cddc24d1b1e07b7ad3869d2796b9975297dbd27b43acbb2/analysis/1574230049/',\n",
      "                            'results': '44',\n",
      "                            'sha256': '5b915e4c0a9e49b27cddc24d1b1e07b7ad3869d2796b9975297dbd27b43acbb2'}}]}\n"
     ]
    }
   ],
   "source": [
    "data = sslbl.get_ssl_details(sha1='7cf902ff50b3869ccaa4715b25bbea3cb18a18b5')\n",
    "pprint(data)"
   ]
  },
  {
   "cell_type": "markdown",
   "metadata": {
    "pycharm": {
     "name": "#%%\n"
    }
   },
   "source": [
    "### JA3 fingerprint\n",
    "\n",
    "> JA3 is an open source tool used to fingerprint SSL/TLS client applications. In the best case, you can use JA3 to identify malware and botnet C2 traffic that is leveraging SSL/TLS. The CSV format is useful if you want to process the JA3 fingerprints further, e.g. loading them into your SIEM. The JA3 fingerprints blacklisted on SSLBL have been collected by analysing more than 25,000,000 PCAPs generated by malware samples. These fingerprints have not been tested against known good traffic yet and may cause a significant amount of FPs!\n",
    "\n",
    "Reference: https://sslbl.abuse.ch/blacklist/#ja3-fingerprints-csv"
   ]
  },
  {
   "cell_type": "code",
   "execution_count": 6,
   "metadata": {
    "scrolled": true
   },
   "outputs": [
    {
     "name": "stdout",
     "output_type": "stream",
     "text": [
      "[JA3(first_seen=datetime.datetime(2017, 7, 14, 18, 8, 15), last_seen=datetime.datetime(2019, 7, 27, 20, 42, 54), md5='b386946a5a44d1ddcc843bc75336dfce', reason='dridex'),\n",
      " JA3(first_seen=datetime.datetime(2017, 7, 14, 19, 2, 3), last_seen=datetime.datetime(2019, 7, 28, 0, 34, 38), md5='8991a387e4cc841740f25d6f5139f92d', reason='adware')]\n"
     ]
    }
   ],
   "source": [
    "data = sslbl.get_ja3_blacklist()\n",
    "pprint(data[0:2])"
   ]
  },
  {
   "cell_type": "markdown",
   "metadata": {},
   "source": [
    "### JA3 details\n",
    "\n",
    "> JA3 is an open source tool used to fingerprint SSL/TLS client applications. In the best case, you can use JA3 to identify malware traffic that is leveraging SSL/TLS.You can find further information about the JA3 fingerprint d76ee64fb7273733cbe455ac81c292e6, including the corresponding malware samples as well as the associated botnet C&Cs.\n",
    "\n",
    "Reference: https://sslbl.abuse.ch/ja3-fingerprints/d76ee64fb7273733cbe455ac81c292e6/"
   ]
  },
  {
   "cell_type": "code",
   "execution_count": 7,
   "metadata": {
    "scrolled": false
   },
   "outputs": [
    {
     "name": "stdout",
     "output_type": "stream",
     "text": [
      "{'details': {'family': 'tofsee',\n",
      "             'first_seen': datetime.datetime(2018, 11, 16, 13, 26, 39),\n",
      "             'ipaddress_count': 2,\n",
      "             'ja3': 'd76ee64fb7273733cbe455ac81c292e6',\n",
      "             'last_seen': datetime.datetime(2018, 11, 18, 19, 19, 36),\n",
      "             'listing_date': datetime.datetime(2018, 11, 19, 11, 34, 25),\n",
      "             'sample_count': 2},\n",
      " 'hashes': [{'ipaddress': '159.53.52.227',\n",
      "             'md5': 'bc95c3f699cea00f31cc288e669d9bd3',\n",
      "             'port': '443',\n",
      "             'timestamp': datetime.datetime(2018, 11, 18, 19, 19, 36),\n",
      "             'virustotal': {'link': 'https://www.virustotal.com/file/7a2ad98a994ba2f3bfcc04b2177be74fb16b29e742d7ed7798cf77460a26a98a/analysis/1542196979/',\n",
      "                            'results': '18/67',\n",
      "                            'sha256': '7a2ad98a994ba2f3bfcc04b2177be74fb16b29e742d7ed7798cf77460a26a98a'}},\n",
      "            {'ipaddress': '159.53.116.245',\n",
      "             'md5': '0d0e3832ff519b3ce734f8f122debcf4',\n",
      "             'port': '443',\n",
      "             'timestamp': datetime.datetime(2018, 11, 16, 13, 26, 40),\n",
      "             'virustotal': {'link': 'https://www.virustotal.com/file/cd08ec098893f6045d7eb34ce27574338eb5c207d86e651a4acc24e7013716a4/analysis/1542193940/',\n",
      "                            'results': '27/67',\n",
      "                            'sha256': 'cd08ec098893f6045d7eb34ce27574338eb5c207d86e651a4acc24e7013716a4'}}]}\n"
     ]
    }
   ],
   "source": [
    "data = sslbl.get_ja3_details(md5='d76ee64fb7273733cbe455ac81c292e6')\n",
    "pprint(data)"
   ]
  }
 ],
 "metadata": {
  "kernelspec": {
   "display_name": "Python 3",
   "language": "python",
   "name": "python3"
  },
  "language_info": {
   "codemirror_mode": {
    "name": "ipython",
    "version": 3
   },
   "file_extension": ".py",
   "mimetype": "text/x-python",
   "name": "python",
   "nbconvert_exporter": "python",
   "pygments_lexer": "ipython3",
   "version": "3.7.5rc1"
  },
  "pycharm": {
   "stem_cell": {
    "cell_type": "raw",
    "metadata": {
     "collapsed": false
    },
    "source": []
   }
  }
 },
 "nbformat": 4,
 "nbformat_minor": 1
}
