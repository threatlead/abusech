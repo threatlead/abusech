{
 "cells": [
  {
   "cell_type": "markdown",
   "metadata": {
    "collapsed": true,
    "pycharm": {
     "is_executing": false
    }
   },
   "source": [
    "# AbuseCH Data Scraper"
   ]
  },
  {
   "cell_type": "markdown",
   "metadata": {
    "pycharm": {
     "is_executing": false,
     "name": "#%%\n"
    },
    "scrolled": true
   },
   "source": [
    "## Feodo Blacklist\n",
    "\n",
    "> Feodo Tracker is a project of abuse.ch with the goal of sharing botnet C&C servers associated with the Feodo malware family (Dridex, Emotet/Heodo). It offers various blocklists, helping network owners to protect their users from Dridex and Emotet/Heodo.\n",
    "\n",
    "Reference: https://feodotracker.abuse.ch/"
   ]
  },
  {
   "cell_type": "code",
   "execution_count": 1,
   "metadata": {},
   "outputs": [],
   "source": [
    "from pprint import pprint\n",
    "from abusech.feodo import Feodo\n",
    "feodo = Feodo()"
   ]
  },
  {
   "cell_type": "markdown",
   "metadata": {},
   "source": [
    "### IpAddress Blocklists\n",
    "\n",
    "> Dridex, Heodo (aka Emotet) and TrickBot botnet command&control servers (C&Cs) reside on compromised servers and servers that have been rent and setup by the botnet herder itself for the sole purpose of botnet hosting. Feodo Tracker offers a blocklist of IP addresses that are associated with such botnet C&Cs that can be used to detect and block botnet C2 traffic from infected machines towards the internet. An IP address will only get added to the blocklist if it responds with a valid botnet C2 response. However, a botnet C2 may become offline later. \n",
    "\n",
    "Reference: https://feodotracker.abuse.ch/blocklist/#ip-blocklist"
   ]
  },
  {
   "cell_type": "code",
   "execution_count": 2,
   "metadata": {
    "pycharm": {
     "is_executing": false,
     "name": "#%%\n"
    },
    "scrolled": false
   },
   "outputs": [
    {
     "name": "stdout",
     "output_type": "stream",
     "text": [
      "[IPAddress(first_seen=datetime.datetime(2019, 11, 23, 4, 42, 31), ipaddress='5.182.211.61', port=447, last_seen=datetime.datetime(2019, 11, 25, 0, 0), family='trickbot'),\n",
      " IPAddress(first_seen=datetime.datetime(2019, 11, 23, 1, 4, 46), ipaddress='81.177.180.252', port=447, last_seen=datetime.datetime(2019, 11, 25, 0, 0), family='trickbot')]\n"
     ]
    }
   ],
   "source": [
    "ip_blocklists = feodo.get_ip_blacklist()\n",
    "pprint(ip_blocklists[0:2])"
   ]
  },
  {
   "cell_type": "markdown",
   "metadata": {},
   "source": [
    "### Aggressive IpAddress Blocklist\n",
    "\n",
    "> Strongly recommend you to not use the aggressive version of the Botnet C2 IP blocklist as it definitely will cause false positives. If you want to get maximum protection and don't care about false positives, use the blacklist below\n",
    "\n",
    "Reference: https://feodotracker.abuse.ch/blocklist/#ip-blocklist"
   ]
  },
  {
   "cell_type": "code",
   "execution_count": 3,
   "metadata": {},
   "outputs": [
    {
     "name": "stdout",
     "output_type": "stream",
     "text": [
      "[IPAddress(first_seen=datetime.datetime(2019, 11, 23, 4, 42, 31), ipaddress='5.182.211.61', port=447, last_seen=None, family='heodo'),\n",
      " IPAddress(first_seen=datetime.datetime(2019, 11, 23, 1, 4, 46), ipaddress='81.177.180.252', port=447, last_seen=None, family='heodo')]\n"
     ]
    }
   ],
   "source": [
    "ip_blocklists = feodo.get_ip_aggressive()\n",
    "pprint(ip_blocklists[0:2])"
   ]
  },
  {
   "cell_type": "markdown",
   "metadata": {},
   "source": [
    "### Get Malware Hashes\n",
    "\n",
    "> Feodo Tracker publishes a list of hashes (MD5) associated with Dridex and Emotet/Heodo malware samples.\n",
    "\n",
    "Reference: https://feodotracker.abuse.ch/blocklist/#malware-hashes"
   ]
  },
  {
   "cell_type": "code",
   "execution_count": 4,
   "metadata": {
    "pycharm": {
     "is_executing": false,
     "name": "#%%\n"
    },
    "scrolled": false
   },
   "outputs": [
    {
     "name": "stdout",
     "output_type": "stream",
     "text": [
      "[Malware(first_seen=datetime.datetime(2019, 11, 25, 5, 30, 58), md5='c96bc127c7acc1e4f9c280ef90f3fe4d', family='heodo'),\n",
      " Malware(first_seen=datetime.datetime(2019, 11, 25, 5, 30, 53), md5='64f64cb51b62bf37719590a4a5ba64eb', family='heodo')]\n"
     ]
    }
   ],
   "source": [
    "malware = feodo.get_malware_hashes()\n",
    "pprint(malware[0:2])"
   ]
  },
  {
   "cell_type": "markdown",
   "metadata": {},
   "source": [
    "### Get IpAddress Details\n",
    "\n",
    "> You are currently viewing the database entry for the TrickBot botnet command&control server (C&C) 5.182.211.61. \n",
    "You can get additional information about this C&C here, such as first seen, last seen and associated malware \n",
    "samples.\n",
    "\n",
    "Reference: https://feodotracker.abuse.ch/browse/host/5.182.211.61/"
   ]
  },
  {
   "cell_type": "code",
   "execution_count": 5,
   "metadata": {},
   "outputs": [
    {
     "name": "stdout",
     "output_type": "stream",
     "text": [
      "{'count': 1,\n",
      " 'details': {'asn_id': 8342,\n",
      "             'asn_name': 'rtcomm-as',\n",
      "             'family': 'trickbot',\n",
      "             'first_seen': datetime.datetime(2019, 11, 23, 1, 4, 46),\n",
      "             'host_name': None,\n",
      "             'last_online': datetime.date(2019, 11, 25),\n",
      "             'last_seen': datetime.datetime(2019, 11, 25, 4, 56, 35),\n",
      "             'spamhaus_sbl': None},\n",
      " 'hashes': [{'family': 'trickbot',\n",
      "             'ipaddress': '81.177.180.252',\n",
      "             'md5': '15026fde691c9401499b04b1f78b5ef7',\n",
      "             'port': 447,\n",
      "             'timestamp': datetime.datetime(2019, 11, 25, 5, 51, 51),\n",
      "             'virustotal': None}]}\n"
     ]
    }
   ],
   "source": [
    "ip_details = feodo.get_ipaddress_details('81.177.180.252')\n",
    "pprint(ip_details)"
   ]
  }
 ],
 "metadata": {
  "kernelspec": {
   "display_name": "Python 3",
   "language": "python",
   "name": "python3"
  },
  "language_info": {
   "codemirror_mode": {
    "name": "ipython",
    "version": 3
   },
   "file_extension": ".py",
   "mimetype": "text/x-python",
   "name": "python",
   "nbconvert_exporter": "python",
   "pygments_lexer": "ipython3",
   "version": "3.7.5rc1"
  },
  "pycharm": {
   "stem_cell": {
    "cell_type": "raw",
    "metadata": {
     "collapsed": false
    },
    "source": []
   }
  }
 },
 "nbformat": 4,
 "nbformat_minor": 1
}
