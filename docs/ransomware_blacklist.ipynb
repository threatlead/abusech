{
 "cells": [
  {
   "cell_type": "markdown",
   "metadata": {
    "collapsed": true,
    "pycharm": {
     "is_executing": false
    }
   },
   "source": [
    "# AbuseCH Data Scraper"
   ]
  },
  {
   "cell_type": "markdown",
   "metadata": {
    "pycharm": {
     "is_executing": false,
     "name": "#%%\n"
    },
    "scrolled": true
   },
   "source": [
    "## Ransomware Blacklist\n",
    "\n",
    "> Ransomware Tracker tracks and monitors the status of domain names, IP addresses and URLs that are associated with Ransomware, such as Botnet C&C servers, distribution sites and payment sites. By using data provided by Ransomware Tracker, hosting- and internet service provider (ISPs), as well as national CERTs/CSIRTs, law enforcement agencies (LEA) and security researchers can receive an overview on infrastructure used by Ransomware and whether these are actively being used by miscreant to commit fraud.\n",
    "\n",
    "Reference: https://ransomwaretracker.abuse.ch/"
   ]
  },
  {
   "cell_type": "code",
   "execution_count": 1,
   "metadata": {},
   "outputs": [],
   "source": [
    "from pprint import pprint\n",
    "from abusech.ransomware import RansomwareBl\n",
    "ransomware = RansomwareBl()"
   ]
  },
  {
   "cell_type": "markdown",
   "metadata": {},
   "source": [
    "### Blocklists\n",
    "\n",
    "> The table below provides separated blocklists for each malware and blocklist type. They allow you to be more specific in what you want to block (e.g. only a certain malware family or blocklist type).\n",
    "\n",
    "Reference: https://ransomwaretracker.abuse.ch/blocklist/"
   ]
  },
  {
   "cell_type": "code",
   "execution_count": 2,
   "metadata": {
    "pycharm": {
     "is_executing": false,
     "name": "#%%\n"
    },
    "scrolled": false
   },
   "outputs": [
    {
     "name": "stdout",
     "output_type": "stream",
     "text": [
      "Blocklist(name='CW_C2_URLBL', malware='cryptowall', scope='c2', type='url', false_positives='low', url='https://ransomwaretracker.abuse.ch/downloads/CW_C2_URLBL.txt')\n"
     ]
    }
   ],
   "source": [
    "blocklists = ransomware.get_blocklists()\n",
    "pprint(blocklists[0])"
   ]
  },
  {
   "cell_type": "markdown",
   "metadata": {},
   "source": [
    "### Get Blocklist - IpAddress\n",
    "\n",
    "> false positives are possible, especially with regards to RW_IPBL. IP addresses associated with Ransomware Payment Sites (*_PS_IPBL) or Locky botnet C&Cs (LY_C2_IPBL) stay listed on RW_IPBL for a time of 30 days after the last appearence. This means that an IP address stays listed on RW_IPBL even after the threat has been eliminated (e.g. the VPS / server has been suspended by the hosting provider) for another 30 days.\n",
    "\n",
    "Reference: https://ransomwaretracker.abuse.ch/blocklist/"
   ]
  },
  {
   "cell_type": "code",
   "execution_count": 3,
   "metadata": {},
   "outputs": [
    {
     "name": "stdout",
     "output_type": "stream",
     "text": [
      "['216.218.135.114', '184.105.192.2']\n"
     ]
    }
   ],
   "source": [
    "data = ransomware.get_blocklist(url='https://ransomwaretracker.abuse.ch/downloads/TC_PS_IPBL.txt')\n",
    "pprint(data)"
   ]
  },
  {
   "cell_type": "markdown",
   "metadata": {},
   "source": [
    "### Get Blocklist - Domain\n",
    "\n",
    "> Ransomware Tracker offers various types of blocklists that allows you to block Ransomware botnet C&C traffic. The available Ransomware blocklists are documented below. The update interval is 5 minutes.\n",
    "\n",
    "Reference: https://ransomwaretracker.abuse.ch/blocklist/"
   ]
  },
  {
   "cell_type": "code",
   "execution_count": 4,
   "metadata": {
    "pycharm": {
     "is_executing": false,
     "name": "#%%\n"
    },
    "scrolled": true
   },
   "outputs": [
    {
     "name": "stdout",
     "output_type": "stream",
     "text": [
      "['anime-tuner.square7.ch',\n",
      " 'dichiro.com',\n",
      " 'double-wing.de',\n",
      " 'dining-bar.com',\n",
      " 'weberteam.hu']\n"
     ]
    }
   ],
   "source": [
    "data = ransomware.get_blocklist(url='https://ransomwaretracker.abuse.ch/downloads/CW_C2_DOMBL.txt')\n",
    "pprint(data[0:5])"
   ]
  },
  {
   "cell_type": "markdown",
   "metadata": {},
   "source": [
    "### Get Blocklist - URL\n",
    "\n",
    "> Ransomware Tracker offers various types of blocklists that allows you to block Ransomware botnet C&C traffic. The available Ransomware blocklists are documented below. The update interval is 5 minutes.\n",
    "\n",
    "Reference: https://ransomwaretracker.abuse.ch/blocklist/"
   ]
  },
  {
   "cell_type": "code",
   "execution_count": 5,
   "metadata": {},
   "outputs": [
    {
     "name": "stdout",
     "output_type": "stream",
     "text": [
      "['http://connectao.com/wp-content/themes/twentyeleven/cc.php',\n",
      " 'http://businessaviators.com/r1doyF.php',\n",
      " 'http://aditaborai.com.br/WgNGXe.php',\n",
      " 'http://procrediti.com.ua/d6yGOX.php',\n",
      " 'http://www.hanecaklaw.com/']\n"
     ]
    }
   ],
   "source": [
    "data = ransomware.get_blocklist(url='https://ransomwaretracker.abuse.ch/downloads/CW_C2_URLBL.txt')\n",
    "pprint(data[0:5])"
   ]
  },
  {
   "cell_type": "markdown",
   "metadata": {
    "pycharm": {
     "name": "#%%\n"
    }
   },
   "source": [
    "### Tracker Data\n",
    "\n",
    "> Ransomware Tracker offers feeds for Hosting- and Internet Service Providers, as well as for national CERTs / CSIRTs, Law Enforcement Agencies and other interested parties. The available feeds are described below. Unlike the blocklists provided by Ransomware Tracker, all feeds referenced below are being generated in real time whenever you hit it. Please be advised that it is recommended to not fetch any feed more often than once every 5 minutes.\n",
    "\n",
    "Reference: https://ransomwaretracker.abuse.ch/feeds/"
   ]
  },
  {
   "cell_type": "code",
   "execution_count": 6,
   "metadata": {
    "scrolled": true
   },
   "outputs": [
    {
     "name": "stdout",
     "output_type": "stream",
     "text": [
      "[Ransomware(timestamp=datetime.datetime(2018, 8, 12, 0, 46, 13), threat='c2', malware='locky', host='83.217.11.193', url='http://83.217.11.193/linuxsucks.php', status='offline', registrar=None, ipaddress='83.217.11.193', asn=199669, country='ru'),\n",
      " Ransomware(timestamp=datetime.datetime(2018, 8, 10, 5, 43, 15), threat='c2', malware='locky', host='pagaldaily.com', url='http://pagaldaily.com/apache_handler.php', status='offline', registrar='Danesco Trading Ltd.', ipaddress='185.82.217.102', asn=59729, country='bg'),\n",
      " Ransomware(timestamp=datetime.datetime(2018, 8, 10, 5, 43, 15), threat='c2', malware='locky', host='185.82.217.102', url='http://185.82.217.102/apache_handler.php', status='offline', registrar=None, ipaddress='185.82.217.102', asn=59729, country='bg'),\n",
      " Ransomware(timestamp=datetime.datetime(2018, 8, 9, 16, 50, 50), threat='c2', malware='locky', host='91.226.92.204', url='http://91.226.92.204/checkupdate', status='offline', registrar=None, ipaddress='91.226.92.204', asn=12389, country='ru'),\n",
      " Ransomware(timestamp=datetime.datetime(2018, 8, 9, 7, 16, 22), threat='c2', malware='locky', host='80.87.202.49', url='http://80.87.202.49/information.cgi', status='offline', registrar=None, ipaddress='80.87.202.49', asn=29182, country='ru')]\n"
     ]
    }
   ],
   "source": [
    "data = ransomware.get_tracker()\n",
    "pprint(data[0:5])"
   ]
  },
  {
   "cell_type": "code",
   "execution_count": null,
   "metadata": {},
   "outputs": [],
   "source": []
  }
 ],
 "metadata": {
  "kernelspec": {
   "display_name": "Python 3",
   "language": "python",
   "name": "python3"
  },
  "language_info": {
   "codemirror_mode": {
    "name": "ipython",
    "version": 3
   },
   "file_extension": ".py",
   "mimetype": "text/x-python",
   "name": "python",
   "nbconvert_exporter": "python",
   "pygments_lexer": "ipython3",
   "version": "3.7.5rc1"
  },
  "pycharm": {
   "stem_cell": {
    "cell_type": "raw",
    "metadata": {
     "collapsed": false
    },
    "source": []
   }
  }
 },
 "nbformat": 4,
 "nbformat_minor": 1
}
